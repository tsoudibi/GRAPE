{
 "cells": [
  {
   "cell_type": "code",
   "execution_count": 28,
   "metadata": {},
   "outputs": [
    {
     "name": "stdout",
     "output_type": "stream",
     "text": [
      "(30,) (30,)\n",
      "[0 0 0 1 1 1 2 2 2 3 3 3 4 4 4 5 5 5 6 6] [10 11 12 10 11 12 10 11 12 10 11 12 10 11 12 10 11 12 10 11]\n",
      "(60,) (60,)\n",
      "[ 0  0  0  1  1  1  2  2  2  3  3  3  4  4  4  5  5  5  6  6  6  7  7  7\n",
      "  8  8  8  9  9  9 10 11 12 10 11 12 10 11 12 10 11 12 10 11 12 10 11 12\n",
      " 10 11 12 10 11 12 10 11 12 10 11 12] [10 11 12 10 11 12 10 11 12 10 11 12 10 11 12 10 11 12 10 11 12 10 11 12\n",
      " 10 11 12 10 11 12  0  0  0  1  1  1  2  2  2  3  3  3  4  4  4  5  5  5\n",
      "  6  6  6  7  7  7  8  8  8  9  9  9]\n"
     ]
    }
   ],
   "source": [
    "import numpy as np\n",
    "n_row, n_col = 10, 3\n",
    "edge_start = np.repeat(np.arange(n_row), n_col)\n",
    "edge_end = np.tile(np.arange(n_row, n_row + n_col), n_row)\n",
    "print(edge_start.shape, edge_end.shape)\n",
    "print(edge_start[:20], edge_end[:20])\n",
    "\n",
    "edge_start_new = np.concatenate((edge_start, edge_end))\n",
    "edge_end_new = np.concatenate((edge_end, edge_start))\n",
    "print(edge_start_new.shape, edge_end_new.shape)\n",
    "print(edge_start_new, edge_end_new)\n",
    "\n"
   ]
  },
  {
   "cell_type": "code",
   "execution_count": 33,
   "metadata": {},
   "outputs": [
    {
     "name": "stdout",
     "output_type": "stream",
     "text": [
      "[False False False  True  True  True False False False  True  True  True\n",
      "  True  True  True  True  True  True  True  True  True  True  True  True\n",
      "  True  True  True  True  True  True  True  True  True  True  True  True\n",
      "  True  True  True  True  True  True  True  True  True  True  True  True\n",
      "  True  True  True  True  True  True  True  True  True  True  True  True]\n",
      "[ True  True  True  True  True  True  True  True  True  True  True  True\n",
      "  True  True  True  True  True  True  True  True  True  True  True  True\n",
      "  True  True  True  True  True  True False False False  True  True  True\n",
      " False False False  True  True  True  True  True  True  True  True  True\n",
      "  True  True  True  True  True  True  True  True  True  True  True  True]\n",
      "[False False False  True  True  True False False False  True  True  True\n",
      "  True  True  True  True  True  True  True  True  True  True  True  True\n",
      "  True  True  True  True  True  True False False False  True  True  True\n",
      " False False False  True  True  True  True  True  True  True  True  True\n",
      "  True  True  True  True  True  True  True  True  True  True  True  True]\n"
     ]
    }
   ],
   "source": [
    "masked_sample_index = [0,2]\n",
    "# masked_sample_index = torch.tensor(masked_sample_index)\n",
    "mask_start = ~np.isin(edge_start_new, masked_sample_index)\n",
    "mask_end = ~np.isin(edge_end_new, masked_sample_index)\n",
    "overal_mask = np.logical_and(mask_start, mask_end)\n",
    "print(mask_start)\n",
    "print(mask_end)\n",
    "print(overal_mask)"
   ]
  },
  {
   "cell_type": "code",
   "execution_count": 1,
   "metadata": {},
   "outputs": [
    {
     "name": "stdout",
     "output_type": "stream",
     "text": [
      "adult\n",
      "9769\n",
      "9769\n",
      "9768\n",
      "9768\n",
      "9768\n",
      "compas\n",
      "994\n",
      "993\n",
      "993\n",
      "993\n",
      "993\n",
      "compass_old\n",
      "3329\n",
      "3329\n",
      "3329\n",
      "3329\n",
      "3328\n",
      "eye_movements_num\n",
      "1522\n",
      "1522\n",
      "1522\n",
      "1521\n",
      "1521\n",
      "eye_movements_cat\n",
      "1522\n",
      "1522\n",
      "1522\n",
      "1521\n",
      "1521\n",
      "electricity_cat\n",
      "7695\n",
      "7695\n",
      "7695\n",
      "7695\n",
      "7694\n"
     ]
    }
   ],
   "source": [
    "from sklearn.model_selection import KFold\n",
    "import pandas as pd \n",
    "import numpy as np\n",
    "kf = KFold(n_splits=5, shuffle=True, random_state=42)\n",
    "DATA_NAMES = ['adult','compas','compass_old','eye_movements_num','eye_movements_cat', 'electricity_cat']\n",
    "for DATA_NAME in DATA_NAMES:\n",
    "    print(DATA_NAME)\n",
    "    data=pd.read_csv('uci/raw_data/'+DATA_NAME+'/data/data.txt', sep=' ', header=None, names=[str(x)for x in range(1)])\n",
    "    for index, (train_index, test_index) in enumerate(kf.split(data)):\n",
    "        # print(train_index)\n",
    "        print(len(test_index))\n",
    "        np.savetxt(\"uci/raw_data/\"+DATA_NAME+\"/data/index_test_{}.txt\".format(index), test_index, fmt = '%d')"
   ]
  },
  {
   "cell_type": "code",
   "execution_count": null,
   "metadata": {},
   "outputs": [],
   "source": []
  }
 ],
 "metadata": {
  "kernelspec": {
   "display_name": "grape",
   "language": "python",
   "name": "python3"
  },
  "language_info": {
   "codemirror_mode": {
    "name": "ipython",
    "version": 3
   },
   "file_extension": ".py",
   "mimetype": "text/x-python",
   "name": "python",
   "nbconvert_exporter": "python",
   "pygments_lexer": "ipython3",
   "version": "3.10.12"
  },
  "orig_nbformat": 4
 },
 "nbformat": 4,
 "nbformat_minor": 2
}
